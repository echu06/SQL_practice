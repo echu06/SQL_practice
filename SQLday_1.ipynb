{
  "nbformat": 4,
  "nbformat_minor": 0,
  "metadata": {
    "colab": {
      "provenance": [],
      "include_colab_link": true
    },
    "kernelspec": {
      "name": "python3",
      "display_name": "Python 3"
    },
    "language_info": {
      "name": "python"
    }
  },
  "cells": [
    {
      "cell_type": "markdown",
      "metadata": {
        "id": "view-in-github",
        "colab_type": "text"
      },
      "source": [
        "<a href=\"https://colab.research.google.com/github/echu06/SQL_practice/blob/main/SQLday_1.ipynb\" target=\"_parent\"><img src=\"https://colab.research.google.com/assets/colab-badge.svg\" alt=\"Open In Colab\"/></a>"
      ]
    },
    {
      "cell_type": "markdown",
      "source": [
        "## Queries"
      ],
      "metadata": {
        "id": "PQS1csitQbaP"
      }
    },
    {
      "cell_type": "markdown",
      "source": [
        "SQL stands for \"structured query language\". It is a standardized language going back to 1982. For the purposes of data retrieval, the main command we will use is \"SELECT\":\n",
        "\n",
        "![](https://www.w3resource.com/w3r_images/select-syntax.gif)"
      ],
      "metadata": {
        "id": "J73d9Iizfw9W"
      }
    },
    {
      "cell_type": "markdown",
      "source": [
        "## Plan for the workshop\n",
        "\n",
        "* Day 1 - row filtering, group by\n",
        "* Day 2 - data joins, arrays and UNNEST\n",
        "* Day 3 - window functions\n",
        "* Day 4 - dashboards (Looker, Dash)\n",
        "* Day 5 - Querying Wikidata using SPARQL (https://www.wikidata.org/wiki/Wikidata:SPARQL_tutorial)"
      ],
      "metadata": {
        "id": "gJQBJt7qhbSm"
      }
    },
    {
      "cell_type": "markdown",
      "source": [
        "## SQL inside Google Sheets\n",
        "\n",
        "As a warm up, we will start with doing simple queries inside Google Sheets.\n",
        "\n",
        "We will use this sheet: https://docs.google.com/spreadsheets/d/19ssb71XhlcBrWnoN6a-9702QnSmZzRpt-hnps-yRNwk/edit?usp=sharing (and later another one, at this [link](https://docs.google.com/spreadsheets/d/1FRgX6DR9SRMg2eD_M1Xbl6MFGgaWZfe8XSh5PYDPjJ0/edit?usp=sharing))\n",
        "\n",
        "Sheets have a function `QUERY` that will execute a query in simplified SQL:https://support.google.com/docs/answer/3093343?hl=en\n",
        "\n",
        "Specifics of this version of SQL are described here: https://developers.google.com/chart/interactive/docs/querylanguage"
      ],
      "metadata": {
        "id": "1Ruk1jhtMcOt"
      }
    },
    {
      "cell_type": "markdown",
      "source": [
        "Notice that the IMDB tables do not have any information whether the item is a Netflix show or not. We are searching only using the title (column `primaryTitle`)"
      ],
      "metadata": {
        "id": "s7mACLkpv_Nh"
      }
    },
    {
      "cell_type": "markdown",
      "metadata": {
        "id": "NVZlCSoX_sZb"
      },
      "source": [
        "\n",
        "The important point is that you can only use the \"native\" column names, like \"A\", \"B\", etc. - not the names that are provided in the header row.\n",
        "\n",
        "The \"from xxx\" part is eliminated, because the function takes a cell range as an input.\n",
        "\n",
        "The query can work only with one table/range - there are no inner joins.\n"
      ]
    },
    {
      "cell_type": "markdown",
      "source": [
        "## Example 1 - Netflix shows of 2024\n",
        "\n",
        "This sheet: [link](https://docs.google.com/spreadsheets/d/19ssb71XhlcBrWnoN6a-9702QnSmZzRpt-hnps-yRNwk/edit?usp=sharing) contains data from IMDB and TMDB. The main focus is the statistics on the ratings of episodes of shows. The table was updated daily, and we have the date as `import_date`."
      ],
      "metadata": {
        "id": "9DJdK3FnN9KN"
      }
    },
    {
      "cell_type": "markdown",
      "source": [
        "---\n",
        "\n",
        "Which shows contain the word 'Last' in their name?\n",
        "\n",
        "```\n",
        "=UNIQUE(QUERY(Sheet1!A:L, \"select B where B contains 'Last'\"))\n",
        "```\n",
        "\n",
        "The `contains` operator is case sensitive. We can use a scalar function `upper` to convert the show name to uppercase, and then compare against the 'LAST' string.\n",
        "\n",
        "```\n",
        "=UNIQUE(QUERY(Sheet1!A:L, \"select B where upper(B) contains 'LAST'\"))\n",
        "```\n"
      ],
      "metadata": {
        "id": "oBGgNdajOVyq"
      }
    },
    {
      "cell_type": "markdown",
      "source": [
        "---\n",
        "\n",
        "Get the IMDB ratings for the first episode of \"Miss Night and Day\":\n",
        "\n",
        "```\n",
        "=QUERY(Sheet1!A:L, \"select * where upper(B) = 'MISS NIGHT AND DAY' and I = 1 and J = 1\")\n",
        "```\n",
        "\n",
        "Now, let's also order them by `import_date`:\n",
        "\n",
        "```\n",
        "=QUERY(Sheet1!A:L, \"select * where upper(B) = 'MISS NIGHT AND DAY' and I = 1 and J = 1 order by L\")\n",
        "```"
      ],
      "metadata": {
        "id": "BbcktTuTQ6dm"
      }
    },
    {
      "cell_type": "markdown",
      "source": [
        "---\n",
        "\n",
        "### Aggregation\n",
        "\n",
        "The `where` clause operates on the rows of a table. It selects the rows that meet a condition. This is useful when we use a database and use SQL to retrieve the rows that we need at the time.\n",
        "\n",
        "We can also compute some aggregate statistics. The simplified SQL in Sheets supports `min`, `max`, `avg`, `sum`, and `count`. ([link](https://developers.google.com/chart/interactive/docs/querylanguage#aggregation-functions))\n",
        "\n",
        "---\n",
        "\n",
        "Which show had the most episodes?\n",
        "\n",
        "```\n",
        "=QUERY(Sheet1!A:L, \"select B, max(J) group by B, I order by max(J) desc\")\n",
        "```\n",
        "\n",
        "---\n",
        "\n",
        "Which show had the most votes for an episode?\n",
        "\n",
        "```\n",
        "=QUERY(Sheet1!A:L, \"select B, max(H) group by B order by max(H) desc\")\n",
        "```\n",
        "\n",
        "Which show had the largest ratio of IMDB votes to TMDB votes? Let's select only those episodes that had more than 1,000 votes on IMDB.\n",
        "\n",
        "```\n",
        "=QUERY(Sheet1!A:L, \"select B, max(H)/max(D) where H > 1000 group by B order by max(H)/max(D)\")\n",
        "```\n",
        "\n",
        "The query above illustrates the point that you have seen in the image above, but did not have a chance to apprecite: the order of statements in a query. Specifically, the `where` clause goes before the `group by` clause.\n"
      ],
      "metadata": {
        "id": "9f0ysd4BSYFV"
      }
    },
    {
      "cell_type": "markdown",
      "source": [
        "---\n",
        "\n",
        "### Pivot\n",
        "\n",
        "Pivoting a table involves converting it into the \"wide\" format - contents of one column make up several columns after the transformation.\n",
        "\n",
        "For instance, I want to compute the ratio of the IMDB ratings of season 1 episode 1 on '2024-05-01' for two shows: `3 Body Problem` and `A Killer Paradox`\n",
        "\n",
        "Let's start by learning to filter the necessary rows:\n",
        "\n",
        "```\n",
        "=QUERY(Sheet1!A:L, \"select B, H, L where I = 1 and J = 1 and (B = '3 Body Problem' or B = 'A Killer Paradox')\")\n",
        "```\n",
        "\n",
        "Now, let's add the filter by `import_date`:\n",
        "\n",
        "```\n",
        "=QUERY(Sheet1!A:L, \"select B, H, L where I = 1 and J = 1 and (B = '3 Body Problem' or B = 'A Killer Paradox') and L = date '2024-05-01'\")\n",
        "```\n",
        "\n",
        "Our version of SQL does not have the lag function that would allow us to reference different rows, but it does allow us do operations row-wise - when the values are in the same row.\n",
        "\n",
        "Thus, the way forward is to pivot the table, so that we have the number of votes as separate columns.\n",
        "\n",
        "```\n",
        "=QUERY(Sheet1!A:L,\n",
        "\"select max(H)\n",
        "  where I = 1 and J = 1\n",
        "  and (B = '3 Body Problem' or B = 'A Killer Paradox')\n",
        "  and L = date '2024-05-01'\n",
        "  pivot B\")\n",
        "```\n",
        "\n",
        "One interesting twist is that pivoting requires using aggregation function. I had to provide `max(H)`. Because I had only one row for each show, `max(H)` was the same as just the value of `H` - the `imdb_num_of_votes`"
      ],
      "metadata": {
        "id": "KPJFVxefWKLv"
      }
    },
    {
      "cell_type": "markdown",
      "source": [
        "### Other examples\n",
        "\n",
        "These examples are based on the data in this [sheet](https://docs.google.com/spreadsheets/d/1FRgX6DR9SRMg2eD_M1Xbl6MFGgaWZfe8XSh5PYDPjJ0/edit?usp=sharing)\n",
        "\n",
        "\n",
        "**List of towns that have `Big Y` stores:**\n",
        "\n",
        "`=QUERY(Sheet2!A:V, \"select E, O where E like 'BIG Y' order by O\", 1)`\n",
        "\n",
        "**List of shows/films that were created by HBO and then distributed by other networks:**\n",
        "\n",
        "`=UNIQUE(QUERY(Sheet3!A:F, \"select A, B, D, E, F where E = 'HBO' and E <> F and F <> '' order by E, B\", 1))`\n",
        "\n",
        "The query language in Google sheets does not have a \"distinct\" clause. To handle duplicate records, the result is enclosed into the sheet function `UNIQUE()`.\n",
        "\n",
        "**Top 25 Enlish language films based on the number of weeks they stayed in Top 10 list**:\n",
        "\n",
        "`=QUERY(Sheet4!A:E, \"select D, count(D) where B = 'Films (English)' group by D order by count(D) desc limit 25\", 1) `\n"
      ],
      "metadata": {
        "id": "Md1PoYd13igf"
      }
    },
    {
      "cell_type": "markdown",
      "source": [
        "---\n",
        "---"
      ],
      "metadata": {
        "id": "pFLWkQppFFP1"
      }
    }
  ]
}